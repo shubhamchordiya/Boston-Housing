{
 "cells": [
  {
   "cell_type": "code",
   "execution_count": 1,
   "metadata": {
    "_cell_guid": "b1076dfc-b9ad-4769-8c92-a6c4dae69d19",
    "_uuid": "8f2839f25d086af736a60e9eeb907d3b93b6e0e5"
   },
   "outputs": [
    {
     "name": "stdout",
     "output_type": "stream",
     "text": [
      "['housing.csv']\n"
     ]
    }
   ],
   "source": [
    "# This Python 3 environment comes with many helpful analytics libraries installed\n",
    "# It is defined by the kaggle/python docker image: https://github.com/kaggle/docker-python\n",
    "# For example, here's several helpful packages to load in \n",
    "\n",
    "import numpy as np # linear algebra\n",
    "import pandas as pd # data processing, CSV file I/O (e.g. pd.read_csv)\n",
    "\n",
    "# Input data files are available in the \"../input/\" directory.\n",
    "# For example, running this (by clicking run or pressing Shift+Enter) will list the files in the input directory\n",
    "\n",
    "import os\n",
    "print(os.listdir(\"../input\"))\n",
    "\n",
    "# Any results you write to the current directory are saved as output."
   ]
  },
  {
   "cell_type": "code",
   "execution_count": 2,
   "metadata": {
    "_cell_guid": "79c7e3d0-c299-4dcb-8224-4455121ee9b0",
    "_uuid": "d629ff2d2480ee46fbb7e2d37f6b5fab8052498a"
   },
   "outputs": [],
   "source": [
    "import numpy as np\n",
    "import pandas as pd\n",
    "import seaborn as sns\n",
    "# Load the Boston housing dataset\n",
    "\n",
    "df = pd.read_csv('../input/housing.csv',sep=\",\")"
   ]
  },
  {
   "cell_type": "markdown",
   "metadata": {
    "_uuid": "99af9c7df6229edaeb624e32ac18b23cbdb9ae22"
   },
   "source": [
    "# Exploratory Data Analysis(EDA)"
   ]
  },
  {
   "cell_type": "markdown",
   "metadata": {
    "_uuid": "68e25ff57030a7e6fb42135e566f229583194d69"
   },
   "source": [
    "In this first section of this project, we will make a cursory investigation about the Boston housing data and provide our observations. Familiarizing ourself with the data through an explorative process is a fundamental practice to help us better understand and justify our results.\n"
   ]
  },
  {
   "cell_type": "code",
   "execution_count": 3,
   "metadata": {
    "_uuid": "4861401faeb0d10e661744e85905a8de0727a886"
   },
   "outputs": [
    {
     "data": {
      "text/html": [
       "<div>\n",
       "<style scoped>\n",
       "    .dataframe tbody tr th:only-of-type {\n",
       "        vertical-align: middle;\n",
       "    }\n",
       "\n",
       "    .dataframe tbody tr th {\n",
       "        vertical-align: top;\n",
       "    }\n",
       "\n",
       "    .dataframe thead th {\n",
       "        text-align: right;\n",
       "    }\n",
       "</style>\n",
       "<table border=\"1\" class=\"dataframe\">\n",
       "  <thead>\n",
       "    <tr style=\"text-align: right;\">\n",
       "      <th></th>\n",
       "      <th>RM</th>\n",
       "      <th>LSTAT</th>\n",
       "      <th>PTRATIO</th>\n",
       "      <th>MEDV</th>\n",
       "    </tr>\n",
       "  </thead>\n",
       "  <tbody>\n",
       "    <tr>\n",
       "      <th>0</th>\n",
       "      <td>6.575</td>\n",
       "      <td>4.98</td>\n",
       "      <td>15.3</td>\n",
       "      <td>504000.0</td>\n",
       "    </tr>\n",
       "    <tr>\n",
       "      <th>1</th>\n",
       "      <td>6.421</td>\n",
       "      <td>9.14</td>\n",
       "      <td>17.8</td>\n",
       "      <td>453600.0</td>\n",
       "    </tr>\n",
       "    <tr>\n",
       "      <th>2</th>\n",
       "      <td>7.185</td>\n",
       "      <td>4.03</td>\n",
       "      <td>17.8</td>\n",
       "      <td>728700.0</td>\n",
       "    </tr>\n",
       "    <tr>\n",
       "      <th>3</th>\n",
       "      <td>6.998</td>\n",
       "      <td>2.94</td>\n",
       "      <td>18.7</td>\n",
       "      <td>701400.0</td>\n",
       "    </tr>\n",
       "    <tr>\n",
       "      <th>4</th>\n",
       "      <td>7.147</td>\n",
       "      <td>5.33</td>\n",
       "      <td>18.7</td>\n",
       "      <td>760200.0</td>\n",
       "    </tr>\n",
       "  </tbody>\n",
       "</table>\n",
       "</div>"
      ],
      "text/plain": [
       "      RM  LSTAT  PTRATIO      MEDV\n",
       "0  6.575   4.98     15.3  504000.0\n",
       "1  6.421   9.14     17.8  453600.0\n",
       "2  7.185   4.03     17.8  728700.0\n",
       "3  6.998   2.94     18.7  701400.0\n",
       "4  7.147   5.33     18.7  760200.0"
      ]
     },
     "execution_count": 3,
     "metadata": {},
     "output_type": "execute_result"
    }
   ],
   "source": [
    "df.head()"
   ]
  },
  {
   "cell_type": "markdown",
   "metadata": {
    "_uuid": "547cf33abc2f4da68336019e74c2b6a2d3268849"
   },
   "source": [
    "# Checking if any column have null data"
   ]
  },
  {
   "cell_type": "code",
   "execution_count": 4,
   "metadata": {
    "_uuid": "ce9a6e8444faa1a1a5e670b130523d6e19bf88d8"
   },
   "outputs": [
    {
     "data": {
      "text/plain": [
       "<matplotlib.axes._subplots.AxesSubplot at 0x7efc06ec40b8>"
      ]
     },
     "execution_count": 4,
     "metadata": {},
     "output_type": "execute_result"
    },
    {
     "data": {
      "image/png": "[encoded data removed]",
      "text/plain": [
       "<Figure size 432x288 with 1 Axes>"
      ]
     },
     "metadata": {},
     "output_type": "display_data"
    }
   ],
   "source": [
    "sns.heatmap(df.isnull(),yticklabels=False,cbar=False,cmap = 'viridis')"
   ]
  },
  {
   "cell_type": "code",
   "execution_count": 5,
   "metadata": {
    "_uuid": "d30529086ef0fec8c9f4da7e12e3ad9e225a3294"
   },
   "outputs": [],
   "source": [
    "#it state that any column doesnt have any null value."
   ]
  },
  {
   "cell_type": "markdown",
   "metadata": {
    "_uuid": "3c94af8c99cd9b32a3c674da44fc879347dc4158"
   },
   "source": [
    "# Describing housing_data for statistic metrics"
   ]
  },
  {
   "cell_type": "code",
   "execution_count": 6,
   "metadata": {
    "_uuid": "8d985d05b583cf80f66451a12a157dcf5446ce0b"
   },
   "outputs": [
    {
     "data": {
      "text/html": [
       "<div>\n",
       "<style scoped>\n",
       "    .dataframe tbody tr th:only-of-type {\n",
       "        vertical-align: middle;\n",
       "    }\n",
       "\n",
       "    .dataframe tbody tr th {\n",
       "        vertical-align: top;\n",
       "    }\n",
       "\n",
       "    .dataframe thead th {\n",
       "        text-align: right;\n",
       "    }\n",
       "</style>\n",
       "<table border=\"1\" class=\"dataframe\">\n",
       "  <thead>\n",
       "    <tr style=\"text-align: right;\">\n",
       "      <th></th>\n",
       "      <th>RM</th>\n",
       "      <th>LSTAT</th>\n",
       "      <th>PTRATIO</th>\n",
       "      <th>MEDV</th>\n",
       "    </tr>\n",
       "  </thead>\n",
       "  <tbody>\n",
       "    <tr>\n",
       "      <th>count</th>\n",
       "      <td>489.000000</td>\n",
       "      <td>489.000000</td>\n",
       "      <td>489.000000</td>\n",
       "      <td>4.890000e+02</td>\n",
       "    </tr>\n",
       "    <tr>\n",
       "      <th>mean</th>\n",
       "      <td>6.240288</td>\n",
       "      <td>12.939632</td>\n",
       "      <td>18.516564</td>\n",
       "      <td>4.543429e+05</td>\n",
       "    </tr>\n",
       "    <tr>\n",
       "      <th>std</th>\n",
       "      <td>0.643650</td>\n",
       "      <td>7.081990</td>\n",
       "      <td>2.111268</td>\n",
       "      <td>1.653403e+05</td>\n",
       "    </tr>\n",
       "    <tr>\n",
       "      <th>min</th>\n",
       "      <td>3.561000</td>\n",
       "      <td>1.980000</td>\n",
       "      <td>12.600000</td>\n",
       "      <td>1.050000e+05</td>\n",
       "    </tr>\n",
       "    <tr>\n",
       "      <th>25%</th>\n",
       "      <td>5.880000</td>\n",
       "      <td>7.370000</td>\n",
       "      <td>17.400000</td>\n",
       "      <td>3.507000e+05</td>\n",
       "    </tr>\n",
       "    <tr>\n",
       "      <th>50%</th>\n",
       "      <td>6.185000</td>\n",
       "      <td>11.690000</td>\n",
       "      <td>19.100000</td>\n",
       "      <td>4.389000e+05</td>\n",
       "    </tr>\n",
       "    <tr>\n",
       "      <th>75%</th>\n",
       "      <td>6.575000</td>\n",
       "      <td>17.120000</td>\n",
       "      <td>20.200000</td>\n",
       "      <td>5.187000e+05</td>\n",
       "    </tr>\n",
       "    <tr>\n",
       "      <th>max</th>\n",
       "      <td>8.398000</td>\n",
       "      <td>37.970000</td>\n",
       "      <td>22.000000</td>\n",
       "      <td>1.024800e+06</td>\n",
       "    </tr>\n",
       "  </tbody>\n",
       "</table>\n",
       "</div>"
      ],
      "text/plain": [
       "               RM       LSTAT     PTRATIO          MEDV\n",
       "count  489.000000  489.000000  489.000000  4.890000e+02\n",
       "mean     6.240288   12.939632   18.516564  4.543429e+05\n",
       "std      0.643650    7.081990    2.111268  1.653403e+05\n",
       "min      3.561000    1.980000   12.600000  1.050000e+05\n",
       "25%      5.880000    7.370000   17.400000  3.507000e+05\n",
       "50%      6.185000   11.690000   19.100000  4.389000e+05\n",
       "75%      6.575000   17.120000   20.200000  5.187000e+05\n",
       "max      8.398000   37.970000   22.000000  1.024800e+06"
      ]
     },
     "execution_count": 6,
     "metadata": {},
     "output_type": "execute_result"
    }
   ],
   "source": [
    "df.describe()"
   ]
  },
  {
   "cell_type": "markdown",
   "metadata": {
    "_uuid": "2f97e81c103c4f14c841ba84504b2a0d3667c4da"
   },
   "source": [
    "# Visualization of data"
   ]
  },
  {
   "cell_type": "code",
   "execution_count": 7,
   "metadata": {
    "_uuid": "99b76d3a90b740898291feb2e243ef845e9d9204"
   },
   "outputs": [],
   "source": [
    "import matplotlib.pyplot as plt\n",
    "import seaborn as sns\n",
    "%matplotlib inline"
   ]
  },
  {
   "cell_type": "code",
   "execution_count": 8,
   "metadata": {
    "_uuid": "7906d2b4516e6e8927a3118f74d6299512966916"
   },
   "outputs": [
    {
     "name": "stderr",
     "output_type": "stream",
     "text": [
      "/opt/conda/lib/python3.6/site-packages/seaborn/axisgrid.py:2065: UserWarning: The `size` parameter has been renamed to `height`; pleaes update your code.\n",
      "  warnings.warn(msg, UserWarning)\n"
     ]
    },
    {
     "data": {
      "image/png": "[encoded data removed]",
      "text/plain": [
       "<Figure size 576x576 with 20 Axes>"
      ]
     },
     "metadata": {},
     "output_type": "display_data"
    }
   ],
   "source": [
    "sns.pairplot(df,size=2);"
   ]
  },
  {
   "cell_type": "markdown",
   "metadata": {
    "_uuid": "6f14a3aaa88f92b3e1d906bf69abdf092effdfeb"
   },
   "source": [
    " **Feature Observation**:\n",
    "           As a reminder, we are using three features from the Boston housing dataset: 'RM', 'LSTAT', and 'PTRATIO'. For each data point (neighborhood):\n",
    "\n",
    "**'RM'** is the average number of rooms among homes in the neighborhood.\n",
    "**'LSTAT'** is the percentage of homeowners in the neighborhood considered \"lower class\" (working poor).\n",
    "**'PTRATIO'** is the ratio of students to teachers in primary and secondary schools in the neighborhood"
   ]
  },
  {
   "cell_type": "markdown",
   "metadata": {
    "_uuid": "118fa4e3cab4d1a738322d80640e37d2660ce8e7"
   },
   "source": [
    "# Correlation Analysis for Feature Selection"
   ]
  },
  {
   "cell_type": "code",
   "execution_count": 9,
   "metadata": {
    "_uuid": "c266d167733153ae5838bc098c60169d56d54216"
   },
   "outputs": [
    {
     "data": {
      "text/html": [
       "<div>\n",
       "<style scoped>\n",
       "    .dataframe tbody tr th:only-of-type {\n",
       "        vertical-align: middle;\n",
       "    }\n",
       "\n",
       "    .dataframe tbody tr th {\n",
       "        vertical-align: top;\n",
       "    }\n",
       "\n",
       "    .dataframe thead th {\n",
       "        text-align: right;\n",
       "    }\n",
       "</style>\n",
       "<table border=\"1\" class=\"dataframe\">\n",
       "  <thead>\n",
       "    <tr style=\"text-align: right;\">\n",
       "      <th></th>\n",
       "      <th>RM</th>\n",
       "      <th>LSTAT</th>\n",
       "      <th>PTRATIO</th>\n",
       "      <th>MEDV</th>\n",
       "    </tr>\n",
       "  </thead>\n",
       "  <tbody>\n",
       "    <tr>\n",
       "      <th>RM</th>\n",
       "      <td>1.000000</td>\n",
       "      <td>-0.612033</td>\n",
       "      <td>-0.304559</td>\n",
       "      <td>0.697209</td>\n",
       "    </tr>\n",
       "    <tr>\n",
       "      <th>LSTAT</th>\n",
       "      <td>-0.612033</td>\n",
       "      <td>1.000000</td>\n",
       "      <td>0.360445</td>\n",
       "      <td>-0.760670</td>\n",
       "    </tr>\n",
       "    <tr>\n",
       "      <th>PTRATIO</th>\n",
       "      <td>-0.304559</td>\n",
       "      <td>0.360445</td>\n",
       "      <td>1.000000</td>\n",
       "      <td>-0.519034</td>\n",
       "    </tr>\n",
       "    <tr>\n",
       "      <th>MEDV</th>\n",
       "      <td>0.697209</td>\n",
       "      <td>-0.760670</td>\n",
       "      <td>-0.519034</td>\n",
       "      <td>1.000000</td>\n",
       "    </tr>\n",
       "  </tbody>\n",
       "</table>\n",
       "</div>"
      ],
      "text/plain": [
       "               RM     LSTAT   PTRATIO      MEDV\n",
       "RM       1.000000 -0.612033 -0.304559  0.697209\n",
       "LSTAT   -0.612033  1.000000  0.360445 -0.760670\n",
       "PTRATIO -0.304559  0.360445  1.000000 -0.519034\n",
       "MEDV     0.697209 -0.760670 -0.519034  1.000000"
      ]
     },
     "execution_count": 9,
     "metadata": {},
     "output_type": "execute_result"
    }
   ],
   "source": [
    "df.corr()  #for finding best feature"
   ]
  },
  {
   "cell_type": "code",
   "execution_count": 10,
   "metadata": {
    "_uuid": "c27be8f4568f404f254b652521d04ed265c0d380"
   },
   "outputs": [
    {
     "data": {
      "image/png": "[encoded data removed]",
      "text/plain": [
       "<Figure size 1152x720 with 2 Axes>"
      ]
     },
     "metadata": {},
     "output_type": "display_data"
    }
   ],
   "source": [
    "plt.figure(figsize=(16,10))\n",
    "sns.heatmap(df.corr(),annot=True);"
   ]
  },
  {
   "cell_type": "markdown",
   "metadata": {
    "_uuid": "29f174cde25918ce956839af63c7f3fb4e2b67ad"
   },
   "source": [
    "In this first section of this project, we will make a cursory investigation about the Boston housing data and provide our observations. Familiarizing ourself with the data through an explorative process is a fundamental practice to help us better understand and justify our results.\n",
    "\n",
    "Since the main goal of this project is to construct a working model which has the capability of predicting the value of houses, we will need to separate the dataset into **features and the target variable.** The features, **'RM', 'LSTAT','PTRATIO'**, give us quantitative information about each data point,they are stored in **'y'** variable. The target variable, **'MEDV'**, will be the variable we seek to predict. These are stored in **'X'** variable.\n",
    "\n"
   ]
  },
  {
   "cell_type": "code",
   "execution_count": 11,
   "metadata": {
    "_uuid": "ee15ff3bdd539493d93c8672dc961d1ac9c1d952"
   },
   "outputs": [],
   "source": [
    "X = df[['LSTAT','RM','PTRATIO']] #select feature\n",
    "y = df[['MEDV']].values   #select target var\n",
    "y = y.reshape(-1,1)"
   ]
  },
  {
   "cell_type": "markdown",
   "metadata": {
    "_uuid": "b358dc3ae581a0f29b78869468eb634137b3f345"
   },
   "source": [
    "# Applying Scikit learn Linear Regression based on 3 independent columns 'RM','LSAT','PTRATIO' to predict value of dependent variable 'MEDV'\n"
   ]
  },
  {
   "cell_type": "code",
   "execution_count": 12,
   "metadata": {
    "_uuid": "5c6b9c3b8337730534284132fca9d5297696e5d6"
   },
   "outputs": [],
   "source": [
    "from sklearn.model_selection import train_test_split\n",
    "from sklearn.linear_model import LinearRegression"
   ]
  },
  {
   "cell_type": "code",
   "execution_count": 13,
   "metadata": {
    "_uuid": "63d61b6542fde5792b96271b7a69cd442da7fb6c"
   },
   "outputs": [],
   "source": [
    "X_train,X_test,y_train,y_test = train_test_split(X,y,test_size = 0.3,random_state=42)"
   ]
  },
  {
   "cell_type": "code",
   "execution_count": 14,
   "metadata": {
    "_uuid": "a24e35e45bb1668939aa98bdb76e80b6bc4c1a54"
   },
   "outputs": [],
   "source": [
    "#create linear regression object\n",
    "lm = LinearRegression()  \n"
   ]
  },
  {
   "cell_type": "code",
   "execution_count": 15,
   "metadata": {
    "_uuid": "fb27b1dedc201f79697157abc47f1b0f20538926"
   },
   "outputs": [
    {
     "data": {
      "text/plain": [
       "LinearRegression(copy_X=True, fit_intercept=True, n_jobs=None,\n",
       "         normalize=False)"
      ]
     },
     "execution_count": 15,
     "metadata": {},
     "output_type": "execute_result"
    }
   ],
   "source": [
    "#train the model using training set\n",
    "lm.fit(X_train,y_train)"
   ]
  },
  {
   "cell_type": "code",
   "execution_count": 16,
   "metadata": {
    "_uuid": "5c082eeb341fc0084971858371abd03865a9bea8"
   },
   "outputs": [],
   "source": [
    "#make prediction using the training set first\n",
    "y_train_pred = lm.predict(X_train)\n",
    "y_test_pred = lm.predict(X_test)"
   ]
  },
  {
   "cell_type": "code",
   "execution_count": 17,
   "metadata": {
    "_uuid": "0781df5fded66dc7b74c5b239052064119e90431"
   },
   "outputs": [
    {
     "name": "stdout",
     "output_type": "stream",
     "text": [
      "Mean Squared error of training set :8031222777.185911\n"
     ]
    }
   ],
   "source": [
    "from sklearn.metrics import mean_absolute_error, mean_squared_error\n",
    "\n",
    "#the mean squared error,lower the value better, if it is a .0 means perfect prediction\n",
    "s = mean_squared_error(y_train,y_train_pred)\n",
    "print(\"Mean Squared error of training set :%2f\"%s)\n"
   ]
  },
  {
   "cell_type": "code",
   "execution_count": 18,
   "metadata": {
    "_uuid": "10219c5aa554ef28bf744b551a96264b46aa4091"
   },
   "outputs": [
    {
     "name": "stdout",
     "output_type": "stream",
     "text": [
      "Mean squared error of testing set: 7048219280.22\n"
     ]
    }
   ],
   "source": [
    "#the mean squared error,lower the value better it is .0 means perfect prediction\n",
    "s = mean_squared_error(y_test,y_test_pred)\n",
    "print(\"Mean squared error of testing set: %.2f\"%s)"
   ]
  },
  {
   "cell_type": "code",
   "execution_count": 19,
   "metadata": {
    "_uuid": "f4d8b230f0e59d54fa3ff8034e7a3733383c59e1"
   },
   "outputs": [
    {
     "name": "stdout",
     "output_type": "stream",
     "text": [
      "R2 variance score of training set: 0.72\n"
     ]
    }
   ],
   "source": [
    "from sklearn.metrics import r2_score\n",
    "\n",
    "# Explained variance score: 1 is perfect prediction\n",
    "s = r2_score(y_train, y_train_pred)\n",
    "print('R2 variance score of training set: %.2f' %s )\n"
   ]
  },
  {
   "cell_type": "code",
   "execution_count": 20,
   "metadata": {
    "_uuid": "17e9860a5de724e67d156e1deff5dfaa03ce95ac"
   },
   "outputs": [
    {
     "name": "stdout",
     "output_type": "stream",
     "text": [
      "R2 variance score of testing set: 0.691005\n"
     ]
    }
   ],
   "source": [
    "#explained the variance score :1 is perfect prediction\n",
    "s = r2_score(y_test,y_test_pred)\n",
    "print(\"R2 variance score of testing set: %2f\"%s)\n"
   ]
  },
  {
   "cell_type": "code",
   "execution_count": 21,
   "metadata": {
    "_uuid": "21aefd4c621518fd220563ba9cab47fd05650ac9"
   },
   "outputs": [
    {
     "name": "stdout",
     "output_type": "stream",
     "text": [
      "Adjusted R^2 Score 0.68\n"
     ]
    }
   ],
   "source": [
    "#calculating adjusted r2\n",
    "N = y_test.size\n",
    "p = X_train.shape[1]\n",
    "adjr2score = 1 - ((1-r2_score(y_test, y_test_pred))*(N - 1))/ (N - p - 1)\n",
    "print(\"Adjusted R^2 Score %.2f\" % adjr2score)"
   ]
  },
  {
   "cell_type": "markdown",
   "metadata": {
    "_uuid": "ebeec5965638fe684ca44b31f53ea27bc64a9f97"
   },
   "source": [
    "# Polynomial Regression"
   ]
  },
  {
   "cell_type": "code",
   "execution_count": 22,
   "metadata": {
    "_uuid": "69cee40a3e95cb4a87d8146443888daa5ee214f5"
   },
   "outputs": [],
   "source": [
    "#import polynomial package\n",
    "from sklearn.preprocessing import PolynomialFeatures"
   ]
  },
  {
   "cell_type": "code",
   "execution_count": 23,
   "metadata": {
    "_uuid": "e6bc65c227fa546420d7bd51dcfab606664f7fcc"
   },
   "outputs": [],
   "source": [
    "#creat a polynomial regression model for the given degree=2\n",
    "poly_reg = PolynomialFeatures(degree = 2)"
   ]
  },
  {
   "cell_type": "code",
   "execution_count": 24,
   "metadata": {
    "_uuid": "1c4940068ef258443b74aaef22b68a8ad99baf16"
   },
   "outputs": [],
   "source": [
    "#transform the existing feature to high degree features.\n",
    "X_train_poly = poly_reg.fit_transform(X_train)\n",
    "X_test_poly = poly_reg.fit_transform(X_test)"
   ]
  },
  {
   "cell_type": "code",
   "execution_count": 25,
   "metadata": {
    "_uuid": "f5bfa43f72da77d0a2e8e04b86c3746908b08519"
   },
   "outputs": [
    {
     "data": {
      "text/plain": [
       "LinearRegression(copy_X=True, fit_intercept=True, n_jobs=None,\n",
       "         normalize=False)"
      ]
     },
     "execution_count": 25,
     "metadata": {},
     "output_type": "execute_result"
    }
   ],
   "source": [
    "#fit the transform features to linear regression\n",
    "lin_reg_2 = LinearRegression()\n",
    "lin_reg_2.fit(X_train_poly,y_train)\n"
   ]
  },
  {
   "cell_type": "code",
   "execution_count": 26,
   "metadata": {
    "_uuid": "c929c1000439c97ed45e888e566b89b959ff9786"
   },
   "outputs": [],
   "source": [
    "#predicting on training data set \n",
    "y_train_predict = lin_reg_2.predict(X_train_poly)\n",
    "#predicting on testing data set\n",
    "y_test_predict = lin_reg_2.predict(X_test_poly)"
   ]
  },
  {
   "cell_type": "code",
   "execution_count": 27,
   "metadata": {
    "_uuid": "819e3ebbcf2731ed8a16e1d3ccdc470e0009cfed"
   },
   "outputs": [
    {
     "name": "stdout",
     "output_type": "stream",
     "text": [
      "The model performance of training set\n",
      "---------------------------------------------\n",
      "RMSE of training set is68920.99023260795\n",
      "R2 score of training set is0.8355858250276694\n"
     ]
    }
   ],
   "source": [
    "#ealuating the model on train dataset\n",
    "rmse_train = np.sqrt(mean_squared_error(y_train,y_train_predict))\n",
    "r2_train = r2_score(y_train,y_train_predict)\n",
    "print(\"The model performance of training set\")\n",
    "print(\"---------------------------------------------\")\n",
    "print(\"RMSE of training set is{}\".format(rmse_train))\n",
    "print(\"R2 score of training set is{}\".format(r2_train))"
   ]
  },
  {
   "cell_type": "code",
   "execution_count": 28,
   "metadata": {
    "_uuid": "7dc49cc9d79cd68912f0750befc86bd86606cfca"
   },
   "outputs": [
    {
     "name": "stdout",
     "output_type": "stream",
     "text": [
      "The model performance of training set\n",
      "-----------------------------------------------\n",
      "RMSE of testing set is62384.1661367507\n",
      "R2 score of testing set is0.8293837402027118\n"
     ]
    }
   ],
   "source": [
    "#evaluating model on test dataset\n",
    "rmse_test = np.sqrt(mean_squared_error(y_test,y_test_predict))\n",
    "r2_test = r2_score(y_test,y_test_predict)\n",
    "\n",
    "print(\"The model performance of training set\")\n",
    "print(\"-----------------------------------------------\")\n",
    "print(\"RMSE of testing set is{}\".format(rmse_test))\n",
    "print(\"R2 score of testing set is{}\".format(r2_test))"
   ]
  },
  {
   "cell_type": "markdown",
   "metadata": {
    "_uuid": "103c1bad4e9d8e7acc27e74d89a7e1aa72989cba"
   },
   "source": [
    "# Quadratic "
   ]
  },
  {
   "cell_type": "code",
   "execution_count": 29,
   "metadata": {
    "_uuid": "64e6abf015822cfd19d18f1f5c3f3f67fc2f9456"
   },
   "outputs": [],
   "source": [
    "#import polynomial package\n",
    "from sklearn.preprocessing import PolynomialFeatures"
   ]
  },
  {
   "cell_type": "code",
   "execution_count": 30,
   "metadata": {
    "_uuid": "2f3bd35f9cc998dd40bd63246f49a55dac5658a4"
   },
   "outputs": [],
   "source": [
    "#creat a polynomial regression model for the given degree=3\n",
    "poly_reg = PolynomialFeatures(degree = 3)"
   ]
  },
  {
   "cell_type": "code",
   "execution_count": 31,
   "metadata": {
    "_uuid": "81bab95f108f77ed48bc995ce1434bbe70dcbb75"
   },
   "outputs": [],
   "source": [
    "#transform the existing feature to high degree features.\n",
    "X_train_poly = poly_reg.fit_transform(X_train)\n",
    "X_test_poly = poly_reg.fit_transform(X_test)"
   ]
  },
  {
   "cell_type": "code",
   "execution_count": 32,
   "metadata": {
    "_uuid": "f4ec81826dad631f999f1c4b011e71b703dd2d1f"
   },
   "outputs": [
    {
     "data": {
      "text/plain": [
       "LinearRegression(copy_X=True, fit_intercept=True, n_jobs=None,\n",
       "         normalize=False)"
      ]
     },
     "execution_count": 32,
     "metadata": {},
     "output_type": "execute_result"
    }
   ],
   "source": [
    "#fit the transform features to linear regression\n",
    "lin_reg_3 = LinearRegression()\n",
    "lin_reg_3.fit(X_train_poly,y_train)\n"
   ]
  },
  {
   "cell_type": "code",
   "execution_count": 33,
   "metadata": {
    "_uuid": "4c0ccd66f269b16ada7210669570800792988d4b"
   },
   "outputs": [],
   "source": [
    "#predicting on training data set \n",
    "y_train_predict = lin_reg_3.predict(X_train_poly)\n",
    "#predicting on testing data set\n",
    "y_test_predict = lin_reg_3.predict(X_test_poly)"
   ]
  },
  {
   "cell_type": "code",
   "execution_count": 34,
   "metadata": {
    "_uuid": "74d3c05610df12f73af21a5a90167bb396e54dc1"
   },
   "outputs": [
    {
     "name": "stdout",
     "output_type": "stream",
     "text": [
      "The model performance of training set\n",
      "----------------------------------------------\n",
      "RMSE of training set is66301.48706859568\n",
      "R2 score of training set is0.8478462085483496\n"
     ]
    }
   ],
   "source": [
    "#ealuating the model on train dataset\n",
    "rmse_train = np.sqrt(mean_squared_error(y_train,y_train_predict))\n",
    "r2_train = r2_score(y_train,y_train_predict)\n",
    "print(\"The model performance of training set\")\n",
    "print(\"----------------------------------------------\")\n",
    "print(\"RMSE of training set is{}\".format(rmse_train))\n",
    "print(\"R2 score of training set is{}\".format(r2_train))"
   ]
  },
  {
   "cell_type": "code",
   "execution_count": 35,
   "metadata": {
    "_uuid": "bf0c0042b0bdd5743fbf0f60f740a5f40270a5a4"
   },
   "outputs": [
    {
     "name": "stdout",
     "output_type": "stream",
     "text": [
      "The model performance of testing set\n",
      "--------------------------------------------\n",
      "RMSE of testing set is62754.74069898846\n",
      "R2 score of testing set is0.8273507296661979\n"
     ]
    }
   ],
   "source": [
    "#evaluating model on test dataset\n",
    "rmse_test = np.sqrt(mean_squared_error(y_test,y_test_predict))\n",
    "r2_test = r2_score(y_test,y_test_predict)\n",
    "\n",
    "print(\"The model performance of testing set\")\n",
    "print(\"--------------------------------------------\")\n",
    "print(\"RMSE of testing set is{}\".format(rmse_test))\n",
    "print(\"R2 score of testing set is{}\".format(r2_test))"
   ]
  },
  {
   "cell_type": "markdown",
   "metadata": {
    "_uuid": "e6a382c835af0b0ee46d5879024a0d1950d860b3"
   },
   "source": [
    "# Applying Gradient Descent"
   ]
  },
  {
   "cell_type": "code",
   "execution_count": 36,
   "metadata": {
    "_uuid": "8fb2280eed6c322f7220dc91d5b37196b26aec0c"
   },
   "outputs": [],
   "source": [
    "from sklearn.preprocessing import StandardScaler\n",
    "sc_x = StandardScaler()\n",
    "sc_y = StandardScaler()\n",
    "X_std = sc_x.fit_transform(X)\n",
    "y_std = sc_y.fit_transform(y.reshape(-1,1)).flatten()"
   ]
  },
  {
   "cell_type": "code",
   "execution_count": 37,
   "metadata": {
    "_uuid": "853a439d326f6023c84625fb86142a7a4a14f65d"
   },
   "outputs": [
    {
     "data": {
      "text/plain": [
       "(489, 3)"
      ]
     },
     "execution_count": 37,
     "metadata": {},
     "output_type": "execute_result"
    }
   ],
   "source": [
    "X_std.shape"
   ]
  },
  {
   "cell_type": "code",
   "execution_count": 38,
   "metadata": {
    "_uuid": "3441bb1602a7d59a815fba4015d8d0ca8a380c01"
   },
   "outputs": [],
   "source": [
    "import numpy as np\n",
    "alpha = 0.0001    #learning rate\n",
    "w_ = np.zeros(1 + X_std.shape[1])    \n",
    "cost_ = [] \n",
    "n_ = 100\n",
    " \n",
    "for i in range(n_):\n",
    "    y_pred = np.dot(X_std,w_[1:] + w_[0])\n",
    "    errors  = (y_std - y_pred)\n",
    "    \n",
    "    w_[1:] +=alpha * X_std.T.dot(errors)   #theta1\n",
    "    w_[0] +=alpha *errors.sum()        #theta0\n",
    "    \n",
    "    cost = (errors**2).sum() / 2.0\n",
    "    cost_.append(cost)"
   ]
  },
  {
   "cell_type": "code",
   "execution_count": 39,
   "metadata": {
    "_uuid": "1a8d0919f2a5d017ca562b47362f7e9d06e489c9"
   },
   "outputs": [
    {
     "data": {
      "image/png": "[encoded data removed]",
      "text/plain": [
       "<Figure size 720x576 with 1 Axes>"
      ]
     },
     "metadata": {},
     "output_type": "display_data"
    }
   ],
   "source": [
    "plt.figure(figsize=(10,8))  #plot the figure\n",
    "plt.plot(range(1,n_ + 1),cost_);\n",
    "plt.ylabel('SSE');\n",
    "plt.xlabel('Epoch');"
   ]
  },
  {
   "cell_type": "code",
   "execution_count": 40,
   "metadata": {
    "_uuid": "a43e2cdbb41dbe36b5d88e03150ef28d01e2cefe"
   },
   "outputs": [
    {
     "data": {
      "text/plain": [
       "array([ 2.89439583e-15, -4.54897201e-01,  3.45402065e-01, -2.50972706e-01])"
      ]
     },
     "execution_count": 40,
     "metadata": {},
     "output_type": "execute_result"
    }
   ],
   "source": [
    "w_   #gradient function (intercept and coeficient) "
   ]
  },
  {
   "cell_type": "code",
   "execution_count": 41,
   "metadata": {
    "_uuid": "734c90d14e4975505e7971007990561e9698380d"
   },
   "outputs": [
    {
     "name": "stdout",
     "output_type": "stream",
     "text": [
      "Accuracy: -0.09 (+/- 0.60)\n"
     ]
    }
   ],
   "source": [
    "#accuracy of gradient function\n",
    "print(\"Accuracy: %0.2f (+/- %0.2f)\" % (w_.mean(), w_.std() * 2))\n"
   ]
  },
  {
   "cell_type": "code",
   "execution_count": 42,
   "metadata": {
    "_uuid": "7024dfe7fa482fe82352226ca8c892f7c6aa5bde"
   },
   "outputs": [],
   "source": []
  }
 ],
 "metadata": {
  "kernelspec": {
   "display_name": "Python 3",
   "language": "python",
   "name": "python3"
  },
  "language_info": {
   "codemirror_mode": {
    "name": "ipython",
    "version": 3
   },
   "file_extension": ".py",
   "mimetype": "text/x-python",
   "name": "python",
   "nbconvert_exporter": "python",
   "pygments_lexer": "ipython3",
   "version": "3.6.6"
  }
 },
 "nbformat": 4,
 "nbformat_minor": 1
}
